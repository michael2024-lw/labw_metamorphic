{
  "cells": [
    {
      "cell_type": "markdown",
      "metadata": {
        "id": "RFrpDjMD2UVC"
      },
      "source": [
        "# Лабораторная работа по теме \"Metamorphic testing\""
      ]
    },
    {
      "cell_type": "markdown",
      "metadata": {
        "id": "JoSgSozQHykn"
      },
      "source": [
        "Ссылка на материалы занятия https://drive.google.com/drive/folders/1dbq1scqU22XPFCrVmz75gpRsb49QjtcM?usp=drive_link\n",
        "\n",
        "Литература\n",
        "\n",
        "1) Barr E.T., Harman M., McMinn P., Shahbaz M., Yoo S. The oracle problem in software testing: A survey. IEEE transactions on software engineering. 41(5). 2014. P. 507-525. https://ieeexplore.ieee.org/stamp/stamp.jsp?tp=&arnumber=6963470\n",
        "\n",
        "2) Tsong Yueh Chen, Fei-Ching Kuo, Huai Liu, Pak-Lok Poon, Dave Towey, T. H.\n",
        "Tse, and Zhi Quan Zhou. 2018. Metamorphic Testing: A Review of Challenges\n",
        "and Opportunities. 51, 1, Article 4 (Jan. 2018), 27 pages. https://doi.org/10.1145/3143561\n",
        "\n",
        "3) M. Srinivasan, M. P. Shahri, I. Kahanda and U. Kanewala, \"Quality Assurance of Bioinformatics Software: A Case Study of Testing a Biomedical Text Processing Tool Using Metamorphic Testing\", 2018 IEEE/ACM 3rd International Workshop on Metamorphic Testing (MET), Gothenburg, 2018, pp. 26-33. https://arxiv.org/pdf/1802.07354.pdf\n",
        "\n",
        "\n",
        "**Критерии оценки.**\n",
        "\n",
        "Условная оценка - 10 баллов за лабораторную. Для получения зачёта достаточно набрать 6.\n",
        "\n",
        "\n",
        "\n",
        "- Задание 1. (4 вопроса, 1 балл)\n",
        "- Задание 2. (9 баллов)"
      ]
    },
    {
      "cell_type": "markdown",
      "metadata": {
        "id": "cOOjuYki2gDK"
      },
      "source": [
        "## Задание 1. Теоретическая часть\n",
        "\n",
        "Ответьте на следующие вопросы (*1 балл*).\n",
        "1. Опишите суть проблемы тестового оракула.\n",
        "2. Приведите примеры задач, для которых обычное тестирование с оракулом не подходит.\n",
        "3. Перечислите методы, которые применяются для решения этой проблемы.\n",
        "4. Дайте определение тестового инварианта (metamorphic relation).\n",
        "\n",
        "\n",
        "\n"
      ]
    },
    {
      "cell_type": "markdown",
      "metadata": {
        "id": "IpV3qmFCI-mZ"
      },
      "source": [
        "Приведите свои ответы здесь:\n",
        "\n",
        "1. Для оценки правильности ответа программы требуется либо уже готовый ответ (для сравнения), который нужно откуда-то брать, либо свойство \"лёгкой проверяемости\" у проверяемого ответа (алгоритм проверки правильности ответа прост даже при отсутствии изначальной информации о том, что ответ правильный).\n",
        "2. Задачи, для которых понятие \"правильности\" (оценить качество выполнения таких задач сложно) определить трудно: это такие задачи как генерации изображений по описанию, задача перефразирования текстов и др. Задачи, для которых заведомо правильный ответ получить сложно: например, получить \"однозначно правильные\" веса для нейросети. Либо же задачи, в рамки которых входит взаимодействие с материальным миром: например, производственное оборудование.\n",
        "3. Для оценки работы программы привлекается человек, либо же (если это возможно): сравнение версий (comparison testing), неявные оракулы (implicit oracles), фаззинг (fuzzing), assertion testing, тестирование инвариантами (metamorphic testing).\n",
        "4. Это функция от нескольких тестовых входов и нескольких тестовых выходов в множество {True, False}, в основе лежит проверка сохранения некоторых свойств (сходств) на входах и выходах и(или) между выходами. Относится к методам тестирования без оракула, не требует наличия правильных ответов на каждый конкретный тестовый вход."
      ]
    },
    {
      "cell_type": "markdown",
      "metadata": {
        "id": "BvHnRXJCH6Fm"
      },
      "source": [
        "## Задание 2. Разработка тестовых инвариантов\n",
        "\n",
        "Дана модель для распознавания сущностей в тексте.\n",
        "- Придумайте и реализуйте 2 теста с тестовым оракулом (обычные тесты с правильными ответами) (*1 балл*)\n",
        "- Придумайте и реализуйте не менее 3 тестовых инвариантов (metamorphic relations) для её проверки - (*суммарно 6 баллов, теоретическое описание - по 1 баллу, реализация - по 1 баллу*)\n",
        "- Сравните полученные тесты. В чем преимущества каждого из методов? В чём недостатки? (*2 балла*)\n",
        "\n",
        "*Указание*. Можете воспользоваться идеями со слайда \"Bio-entity recognition\" или из статьи \"Quality Assurance of Bioinformatics Software: A Case Study of Testing a Biomedical Text Processing Tool Using Metamorphic Testing\" из списка литературы.\n",
        "\n",
        "**Правила оформления.**\n",
        "\n",
        "Для каждого инварианта необходимо описать\n",
        " - из каких предположений о модели он вытекает,\n",
        " - формальное описание (желательно с формулой),\n",
        " - запуск на 1-2 примерах тестовых данных.\n",
        "\n",
        "Теоретическую часть можно оформить в ячейке markdown."
      ]
    },
    {
      "cell_type": "markdown",
      "metadata": {
        "id": "Rmc0KqkI7g8c"
      },
      "source": [
        "### Тестируемая система\n",
        "\n",
        "Модель позволяет искать сущности в тексте. Ниже приведены примеры того, как можно с ней работать."
      ]
    },
    {
      "cell_type": "code",
      "execution_count": null,
      "metadata": {
        "id": "c2OQoJZ05L17"
      },
      "outputs": [],
      "source": [
        "# ! pip install spacy==2.2.4"
      ]
    },
    {
      "cell_type": "code",
      "execution_count": 3,
      "metadata": {
        "id": "7pJhnXchlEqW"
      },
      "outputs": [],
      "source": [
        "import spacy\n",
        "from spacy import displacy"
      ]
    },
    {
      "cell_type": "code",
      "execution_count": 2,
      "metadata": {
        "id": "nROSvozS7ngm"
      },
      "outputs": [],
      "source": [
        "# example of model usage\n",
        "def render(text):\n",
        "\n",
        "    nlp = spacy.load('en_core_web_sm') # model\n",
        "\n",
        "    doc = nlp(text) # data processing\n",
        "\n",
        "    # FYI all the properties\n",
        "    props = [p for p in dir(doc.ents[0]) if p[0] != '_']\n",
        "    print(props)\n",
        "\n",
        "    # custom processing of the answer\n",
        "\n",
        "    # get counts of entities\n",
        "    ent_labels = [e.label_ for e in doc.ents]\n",
        "    freq = dict()\n",
        "    for l in ent_labels:\n",
        "        freq[l] = ent_labels.count(l)\n",
        "    print(freq)\n",
        "\n",
        "    # get coordinates of entities\n",
        "    coordinates = [e.start_char for e in doc.ents]\n",
        "    print(coordinates)\n",
        "\n",
        "    # render the answer\n",
        "    displacy.render(doc, style='ent', jupyter=True)\n",
        "\n",
        "def model_result(text):\n",
        "    nlp = spacy.load('en_core_web_sm') # model\n",
        "    doc = nlp(text) # data processing\n",
        "\n",
        "    # get counts of entities\n",
        "    ent_labels = [e.label_ for e in doc.ents]\n",
        "    freq = dict()\n",
        "    for l in ent_labels:\n",
        "        freq[l] = ent_labels.count(l)\n",
        "\n",
        "    # get coordinates of entities\n",
        "    coordinates = [e.start_char for e in doc.ents]\n",
        "\n",
        "    return (freq, coordinates)"
      ]
    },
    {
      "cell_type": "markdown",
      "metadata": {
        "id": "HBEamgaP4K9W"
      },
      "source": [
        "Модель позволяет искать сущности в тексте. В ячейке ниже приведены примеры того, как можно с ней работать."
      ]
    },
    {
      "cell_type": "code",
      "execution_count": null,
      "metadata": {
        "colab": {
          "base_uri": "https://localhost:8080/",
          "height": 231
        },
        "id": "_uAmLvzO7r8d",
        "outputId": "7b37f566-721e-40d6-aa51-c6116d7d7af5"
      },
      "outputs": [
        {
          "output_type": "stream",
          "name": "stdout",
          "text": [
            "['as_doc', 'char_span', 'conjuncts', 'doc', 'end', 'end_char', 'ent_id', 'ent_id_', 'ents', 'get_extension', 'get_lca_matrix', 'has_extension', 'has_vector', 'id', 'id_', 'kb_id', 'kb_id_', 'label', 'label_', 'lefts', 'lemma_', 'n_lefts', 'n_rights', 'noun_chunks', 'orth_', 'remove_extension', 'rights', 'root', 'sent', 'sentiment', 'sents', 'set_extension', 'similarity', 'start', 'start_char', 'subtree', 'tensor', 'text', 'text_with_ws', 'to_array', 'vector', 'vector_norm', 'vocab']\n",
            "{'ORG': 5, 'PERSON': 1, 'LOC': 1}\n",
            "[4, 84, 92, 111, 124, 133, 167]\n"
          ]
        },
        {
          "output_type": "display_data",
          "data": {
            "text/plain": [
              "<IPython.core.display.HTML object>"
            ],
            "text/html": [
              "<span class=\"tex2jax_ignore\"><div class=\"entities\" style=\"line-height: 2.5; direction: ltr\">But \n",
              "<mark class=\"entity\" style=\"background: #7aecec; padding: 0.45em 0.6em; margin: 0 0.25em; line-height: 1; border-radius: 0.35em;\">\n",
              "    Google\n",
              "    <span style=\"font-size: 0.8em; font-weight: bold; line-height: 1; border-radius: 0.35em; vertical-align: middle; margin-left: 0.5rem\">ORG</span>\n",
              "</mark>\n",
              " is starting from behind. The company made a late push<br>into hardware, and \n",
              "<mark class=\"entity\" style=\"background: #7aecec; padding: 0.45em 0.6em; margin: 0 0.25em; line-height: 1; border-radius: 0.35em;\">\n",
              "    Apple\n",
              "    <span style=\"font-size: 0.8em; font-weight: bold; line-height: 1; border-radius: 0.35em; vertical-align: middle; margin-left: 0.5rem\">ORG</span>\n",
              "</mark>\n",
              "’s \n",
              "<mark class=\"entity\" style=\"background: #aa9cfc; padding: 0.45em 0.6em; margin: 0 0.25em; line-height: 1; border-radius: 0.35em;\">\n",
              "    Siri\n",
              "    <span style=\"font-size: 0.8em; font-weight: bold; line-height: 1; border-radius: 0.35em; vertical-align: middle; margin-left: 0.5rem\">PERSON</span>\n",
              "</mark>\n",
              ", available on \n",
              "<mark class=\"entity\" style=\"background: #7aecec; padding: 0.45em 0.6em; margin: 0 0.25em; line-height: 1; border-radius: 0.35em;\">\n",
              "    iPhones\n",
              "    <span style=\"font-size: 0.8em; font-weight: bold; line-height: 1; border-radius: 0.35em; vertical-align: middle; margin-left: 0.5rem\">ORG</span>\n",
              "</mark>\n",
              ", and \n",
              "<mark class=\"entity\" style=\"background: #7aecec; padding: 0.45em 0.6em; margin: 0 0.25em; line-height: 1; border-radius: 0.35em;\">\n",
              "    Amazon\n",
              "    <span style=\"font-size: 0.8em; font-weight: bold; line-height: 1; border-radius: 0.35em; vertical-align: middle; margin-left: 0.5rem\">ORG</span>\n",
              "</mark>\n",
              "’s \n",
              "<mark class=\"entity\" style=\"background: #7aecec; padding: 0.45em 0.6em; margin: 0 0.25em; line-height: 1; border-radius: 0.35em;\">\n",
              "    Alexa\n",
              "    <span style=\"font-size: 0.8em; font-weight: bold; line-height: 1; border-radius: 0.35em; vertical-align: middle; margin-left: 0.5rem\">ORG</span>\n",
              "</mark>\n",
              "<br>software, which runs on its \n",
              "<mark class=\"entity\" style=\"background: #ff9561; padding: 0.45em 0.6em; margin: 0 0.25em; line-height: 1; border-radius: 0.35em;\">\n",
              "    Echo\n",
              "    <span style=\"font-size: 0.8em; font-weight: bold; line-height: 1; border-radius: 0.35em; vertical-align: middle; margin-left: 0.5rem\">LOC</span>\n",
              "</mark>\n",
              " and Dot devices, have clear leads in<br>consumer adoption.</div></span>"
            ]
          },
          "metadata": {}
        }
      ],
      "source": [
        "text = \"\"\"But Google is starting from behind. The company made a late push\n",
        "into hardware, and Apple’s Siri, available on iPhones, and Amazon’s Alexa\n",
        "software, which runs on its Echo and Dot devices, have clear leads in\n",
        "consumer adoption.\"\"\"\n",
        "\n",
        "render(text)"
      ]
    },
    {
      "cell_type": "markdown",
      "metadata": {
        "id": "4hts770wMN81"
      },
      "source": [
        "\n",
        "### Пример оформления инварианта\n",
        "\n",
        "Рассмотрим задачу поиска подстроки в строке.\n",
        "\n",
        "Предполагаем, что алгоритм должен находить все вхождения подстроки.\n",
        "\n",
        "> **MR1.** Если в строке S найдёна некоторая подстрока s ровно k раз, то в строке SS она будет найдена не менее 2k раз (возможны нахождения на месте склейки строк).\n",
        "\n",
        "Формально. Пусть S - строка, s - её подстрока, f(S,s) - определённое программой число вхождений s в S. Тогда f(SS,s) >= 2*f(S,s).\n"
      ]
    },
    {
      "cell_type": "code",
      "execution_count": 1,
      "metadata": {
        "id": "l3HLSNRb2fap"
      },
      "outputs": [],
      "source": [
        "import re\n",
        "import unittest\n",
        "\n",
        "# function for testing\n",
        "def func_to_test(substr, string):\n",
        "    return re.finditer(pattern=substr, string=string)\n",
        "\n",
        "\n",
        "class TestStringMethods(unittest.TestCase):\n",
        "\n",
        "    def test_with_oracle1(self):\n",
        "        # input data\n",
        "        big_string = 'abacaba'\n",
        "        substr = 'aba'\n",
        "\n",
        "        # correct answer\n",
        "        right_answer = [0, 4]\n",
        "\n",
        "        indices = func_to_test(substr, big_string)\n",
        "        answer = [index.start() for index in indices]\n",
        "\n",
        "        self.assertTrue(answer == right_answer)\n",
        "\n",
        "    def test_metamorphic1(self):\n",
        "        # input data\n",
        "        big_string1 = 'abacab'\n",
        "        big_string2 = big_string1 + big_string1\n",
        "        substr = 'aba'\n",
        "\n",
        "        # first answer\n",
        "        indices = func_to_test(substr, big_string1)\n",
        "        indices1 = [index.start() for index in indices]\n",
        "\n",
        "        # second answer\n",
        "        indices = func_to_test(substr, big_string2)\n",
        "        indices2 = [index.start() for index in indices]\n",
        "\n",
        "        # metamorphic relation\n",
        "        self.assertTrue(2*len(indices1) <= len(indices2))"
      ]
    },
    {
      "cell_type": "markdown",
      "metadata": {
        "id": "YIWP_VCIJgoo"
      },
      "source": [
        "Ниже мы запускаем все объявленные тестовые случаи"
      ]
    },
    {
      "cell_type": "code",
      "execution_count": null,
      "metadata": {
        "colab": {
          "base_uri": "https://localhost:8080/"
        },
        "id": "hNOpslG87uzq",
        "outputId": "9a451a72-5dac-4a52-bab3-8d6ac25559d1"
      },
      "outputs": [
        {
          "output_type": "stream",
          "name": "stderr",
          "text": [
            "..\n",
            "----------------------------------------------------------------------\n",
            "Ran 2 tests in 0.738s\n",
            "\n",
            "OK\n"
          ]
        },
        {
          "output_type": "execute_result",
          "data": {
            "text/plain": [
              "<unittest.main.TestProgram at 0x7df6737434c0>"
            ]
          },
          "metadata": {},
          "execution_count": 10
        }
      ],
      "source": [
        "unittest.main(argv=['first-arg-is-ignored'], exit=False)"
      ]
    },
    {
      "cell_type": "markdown",
      "metadata": {
        "id": "u1gJjW4GIYhe"
      },
      "source": [
        "### Реализуйте собственные тестовые инварианты ниже"
      ]
    },
    {
      "cell_type": "markdown",
      "source": [
        "#### Инвариант 1\n",
        "1. Должна существовать связь между словарём частот и количеством позиций в тексте.\n",
        "2. Этот тест проверяет, что сумма частот равна длинне массива позиций: $\\sum_{frequrency\\in frequrencies} frequrency\\equiv\\operatorname{len}(positions)$\n",
        "\n",
        "#### Инвариант 2\n",
        "1. Удвоение текста (с разбивкой по предложениям) не должно менять число категорий, но должно увеличивать частоты вдвое.\n",
        "2. Этот тест проверяет, что удвоение текста не увеличивает число категорий $\\operatorname{categories}(frequrencies_{1})\\equiv\\operatorname{categories}(frequrencies_{1+1})$, что удваивается размер массива позиций $\\operatorname{len}(positions_{1})\\equiv\\operatorname{len}(positions_{1+1})$, что удваивается счётчик частот в каждой категории $\\forall category \\in frequrencies_1: frequrencies_1[category]*2 \\equiv frequrencies_{1+1}[category]$\n",
        "\n",
        "#### Инвариант 3\n",
        "1. Порядок объединения предложений не должен влиять на веделенные категории и позиции (так как контекст не учитывается).\n",
        "2. Этот тест проверяет, что $a+b \\equiv b+a$\n",
        "\n",
        "#### Инвариант 4\n",
        "1. Значение функции от результата объединения является результатом _некоторого объединения_ результатов функции от исходных частей.\n",
        "2. Этот тест проверяет, что $f(a+b) \\equiv f(a) + f(b)$"
      ],
      "metadata": {
        "id": "-hNIMSxubHpN"
      }
    },
    {
      "cell_type": "code",
      "execution_count": 102,
      "metadata": {
        "id": "f0hWY1bayPn5"
      },
      "outputs": [],
      "source": [
        "import unittest\n",
        "\n",
        "class TestStringMethods(unittest.TestCase):\n",
        "\n",
        "    def test_with_oracle1(self):\n",
        "        # input data\n",
        "        big_text = \"\"\"Lorem Ipsum is simply dummy text of the printing and typesetting industry.\n",
        "        Lorem Ipsum has been the industry's standard dummy text ever since the 1500s,\n",
        "        when an unknown printer took a galley of type and scrambled it to make a type specimen book.\"\"\"\n",
        "\n",
        "        result = model_result(big_text)\n",
        "\n",
        "        # correct answer\n",
        "        ents = {'PERSON': 2, 'DATE': 1}\n",
        "        locations = [0, 83, 150]\n",
        "\n",
        "        self.assertTrue(result[0] == ents and result[1] == locations)\n",
        "\n",
        "\n",
        "    def test_with_oracle2(self):\n",
        "        # input data\n",
        "        big_text = \"\"\"\"L\" which were discovered in 1234. Lorem is simply dummy text of the printing and typesetting industry.\n",
        "        Lorem Ipsum has been the Jubrand industry's standard dummy text ever since the 1500s,\n",
        "        when an unknown printer in 90s took a galley of type and scrambled it to make a type specimen book\n",
        "        with Donald Trump and Biden under Barak. \"\"\"\n",
        "\n",
        "        result = model_result(big_text)\n",
        "\n",
        "        # correct answer\n",
        "        ents = {'DATE': 3, 'PERSON': 5, 'GPE': 1}\n",
        "        locations = [29, 35, 112, 137, 187, 233, 319, 336, 348]\n",
        "\n",
        "        self.assertTrue(result[0] == ents and result[1] == locations)\n",
        "\n",
        "\n",
        "    def test_metamorphic1(self):\n",
        "        \"\"\"Metamorphic #1 part 1\"\"\"\n",
        "\n",
        "        part_1_text = \"\"\"Google as officially launched in 1998 by Larry Page and\n",
        "        Sergey Brin to market Google Search, which has become the most used web-based search engine.\n",
        "        The search engine soon proved successful and the expanding company moved several times,\n",
        "        finally settling at Mountain View in 2003. \"\"\"\n",
        "\n",
        "        result = model_result(part_1_text)\n",
        "        self.assertTrue(sum(result[0].values()) == len(result[1]))\n",
        "\n",
        "\n",
        "    def test_metamorphic1_2(self):\n",
        "        \"\"\"Metamorphic #1 part 2\"\"\"\n",
        "\n",
        "        part_1_text = \"\"\"Old friends Bill Gates and Paul Allen sought to make a business using their skills in computer programming.\n",
        "        In 1972, they founded Traf-O-Data, which sold a rudimentary computer to track and analyze automobile traffic data.\n",
        "        Gates enrolled at Harvard University while Allen pursued a degree in computer science at Washington State University,\n",
        "        though he later dropped out to work at Honeywell. \"\"\"\n",
        "\n",
        "        result = model_result(part_1_text)\n",
        "        self.assertTrue(sum(result[0].values()) == len(result[1]))\n",
        "\n",
        "\n",
        "    def test_metamorphic2(self):\n",
        "        \"\"\"Metamorphic #2 part 1\"\"\"\n",
        "\n",
        "        part_1_text = \"\"\"Google as officially launched in 1998 by Larry Page and\n",
        "        Sergey Brin to market Google Search, which has become the most used web-based search engine.\n",
        "        The search engine soon proved successful and the expanding company moved several times,\n",
        "        finally settling at Mountain View in 2003. \"\"\"\n",
        "\n",
        "        result_1 = model_result(part_1_text)\n",
        "        result_11 = model_result(part_1_text + part_1_text)\n",
        "\n",
        "        self.assertTrue(result_1[0].keys() == result_11[0].keys())\n",
        "        self.assertTrue(2*len(result_1[1]) == len(result_11[1]))\n",
        "\n",
        "        for key in result_1[0]:\n",
        "          self.assertTrue(2*result_1[0][key] == result_11[0][key])\n",
        "\n",
        "\n",
        "    def test_metamorphic2_2(self):\n",
        "        \"\"\"Metamorphic #2 part 2\"\"\"\n",
        "\n",
        "        part_1_text = \"\"\"Old friends Bill Gates and Paul Allen sought to make a business using their skills in computer programming.\n",
        "        In 1972, they founded Traf-O-Data, which sold a rudimentary computer to track and analyze automobile traffic data.\n",
        "        Gates enrolled at Harvard University while Allen pursued a degree in computer science at Washington State University,\n",
        "        though he later dropped out to work at Honeywell. \"\"\"\n",
        "\n",
        "        result_1 = model_result(part_1_text)\n",
        "        result_11 = model_result(part_1_text + part_1_text)\n",
        "\n",
        "        self.assertTrue(result_1[0].keys() == result_11[0].keys())\n",
        "        self.assertTrue(2*len(result_1[1]) == len(result_11[1]))\n",
        "\n",
        "        for key in result_1[0]:\n",
        "          self.assertTrue(2*result_1[0][key] == result_11[0][key])\n",
        "\n",
        "\n",
        "    def test_metamorphic3(self):\n",
        "        \"\"\"Metamorphic #3 part 1\"\"\"\n",
        "\n",
        "        part_1_text = \"\"\"Google as officially launched in 1998 by Larry Page and\n",
        "        Sergey Brin to market Google Search, which has become the most used web-based search engine. \"\"\"\n",
        "\n",
        "        part_2_text = \"\"\"The search engine soon proved successful and the expanding company moved several times,\n",
        "        finally settling at Mountain View in 2003. \"\"\"\n",
        "\n",
        "        result_12 = model_result(part_1_text + part_2_text)\n",
        "        result_21 = model_result(part_2_text + part_1_text)\n",
        "\n",
        "        self.assertTrue(result_12[0] == result_21[0])\n",
        "\n",
        "\n",
        "    def test_metamorphic3_2(self):\n",
        "        \"\"\"Metamorphic #3 part 2\"\"\"\n",
        "\n",
        "        part_1_text = \"\"\"Old friends Bill Gates and Paul Allen sought to make a business using their skills in computer programming.\n",
        "        In 1972, they founded Traf-O-Data, which sold a rudimentary computer to track and analyze automobile traffic data. \"\"\"\n",
        "\n",
        "        part_2_text = \"\"\"Gates enrolled at Harvard University while Allen pursued a degree in computer science at Washington State University,\n",
        "        though he later dropped out to work at Honeywell. \"\"\"\n",
        "\n",
        "        result_12 = model_result(part_1_text + part_2_text)\n",
        "        result_21 = model_result(part_2_text + part_1_text)\n",
        "\n",
        "        self.assertTrue(result_12[0] == result_21[0])\n",
        "\n",
        "\n",
        "    def test_metamorphic4(self):\n",
        "        \"\"\"Metamorphic #4 part 1\"\"\"\n",
        "\n",
        "        part_1_text = \"\"\"Google as officially launched in 1998 by Larry Page and\n",
        "        Sergey Brin to market Google Search, which has become the most used web-based search engine. \"\"\"\n",
        "\n",
        "        part_2_text = \"\"\"The search engine soon proved successful and the expanding company moved several times,\n",
        "        finally settling at Mountain View in 2003. \"\"\"\n",
        "\n",
        "        result_1 = model_result(part_1_text)\n",
        "        result_2 = model_result(part_2_text)\n",
        "        result_12 = model_result(part_1_text + part_2_text)\n",
        "\n",
        "        result_1_2_merge = {key: result_1[0].get(key, 0) + result_2[0].get(key, 0) for key in set(result_1[0].keys()) | set(result_2[0].keys())}\n",
        "\n",
        "        self.assertTrue(result_1_2_merge == result_12[0])\n",
        "        self.assertTrue(result_1[1] + [len(part_1_text) + itm for itm in result_2[1]] == result_12[1])\n",
        "\n",
        "\n",
        "    def test_metamorphic4_2(self):\n",
        "        \"\"\"Metamorphic #4 part 2\"\"\"\n",
        "\n",
        "        part_1_text = \"\"\"Old friends Bill Gates and Paul Allen sought to make a business using their skills in computer programming.\n",
        "        In 1972, they founded Traf-O-Data, which sold a rudimentary computer to track and analyze automobile traffic data. \"\"\"\n",
        "\n",
        "        part_2_text = \"\"\"Gates enrolled at Harvard University while Allen pursued a degree in computer science at Washington State University,\n",
        "        though he later dropped out to work at Honeywell. \"\"\"\n",
        "\n",
        "        result_1 = model_result(part_1_text)\n",
        "        result_2 = model_result(part_2_text)\n",
        "        result_12 = model_result(part_1_text + part_2_text)\n",
        "\n",
        "        result_1_2_merge = {key: result_1[0].get(key, 0) + result_2[0].get(key, 0) for key in set(result_1[0].keys()) | set(result_2[0].keys())}\n",
        "\n",
        "        self.assertTrue(result_1_2_merge == result_12[0])\n",
        "        self.assertTrue(result_1[1] + [len(part_1_text) + itm for itm in result_2[1]] == result_12[1])"
      ]
    },
    {
      "cell_type": "code",
      "execution_count": 103,
      "metadata": {
        "id": "AU_uYHTn0FKI",
        "colab": {
          "base_uri": "https://localhost:8080/"
        },
        "outputId": "bfccc756-72d2-4540-bd11-f25a37710019"
      },
      "outputs": [
        {
          "output_type": "stream",
          "name": "stderr",
          "text": [
            "..........\n",
            "----------------------------------------------------------------------\n",
            "Ran 10 tests in 15.020s\n",
            "\n",
            "OK\n"
          ]
        },
        {
          "output_type": "execute_result",
          "data": {
            "text/plain": [
              "<unittest.main.TestProgram at 0x7fee6e224190>"
            ]
          },
          "metadata": {},
          "execution_count": 103
        }
      ],
      "source": [
        "unittest.main(argv=['first-arg-is-ignored'], exit=False)"
      ]
    },
    {
      "cell_type": "markdown",
      "source": [
        "### Сравнение тестов\n",
        "Тесты с обоими подходами завершились успешно. Ни один из подходов нельзя назвать лучше другого: они дополняют друг друга.\n",
        "\n",
        "Тестирование инвариантов позволяет проверить тенденции изменения значений, но не сами значения. Однако, позволяет запускать тестирование на большом неразмеченном объёме данных.\n",
        "\n",
        "Тестирование оракулом позволяет проверить, что ответ функции в точности совпадает с ожидаемым, но подготовить множество ответов для оракула может быть затруднительно на большом объёме данных.\n",
        "\n",
        "#### Оракул\n",
        "Плюсы:\n",
        "+ проверяет соответствие каждого значение, легко найти несовпадение\n",
        "\n",
        "Минусы:\n",
        "- для некоторых задач подготовить множество ответов для оракула может быть трудно\n",
        "\n",
        "#### Инварианты\n",
        "Плюсы:\n",
        "+ можно запускать на большом объёме данных без дополнительных манимуляций с данными\n",
        "+ проверяет ожидаемые тенденции изменений в результатах\n",
        "\n",
        "Минусы:\n",
        "- проверяет сходство ожидаемой тенденции изменения и реальной, но не сами значения"
      ],
      "metadata": {
        "id": "eM8kA1Cski1K"
      }
    }
  ],
  "metadata": {
    "colab": {
      "provenance": []
    },
    "kernelspec": {
      "display_name": "Python 3 (ipykernel)",
      "language": "python",
      "name": "python3"
    },
    "language_info": {
      "codemirror_mode": {
        "name": "ipython",
        "version": 3
      },
      "file_extension": ".py",
      "mimetype": "text/x-python",
      "name": "python",
      "nbconvert_exporter": "python",
      "pygments_lexer": "ipython3",
      "version": "3.10.12"
    }
  },
  "nbformat": 4,
  "nbformat_minor": 0
}