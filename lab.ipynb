{
  "cells": [
    {
      "cell_type": "markdown",
      "metadata": {
        "id": "RFrpDjMD2UVC"
      },
      "source": [
        "# Лабораторная работа по теме \"Metamorphic testing\""
      ]
    },
    {
      "cell_type": "markdown",
      "metadata": {
        "id": "JoSgSozQHykn"
      },
      "source": [
        "Ссылка на материалы занятия https://drive.google.com/drive/folders/1dbq1scqU22XPFCrVmz75gpRsb49QjtcM?usp=drive_link\n",
        "\n",
        "Литература\n",
        "\n",
        "1) Barr E.T., Harman M., McMinn P., Shahbaz M., Yoo S. The oracle problem in software testing: A survey. IEEE transactions on software engineering. 41(5). 2014. P. 507-525. https://ieeexplore.ieee.org/stamp/stamp.jsp?tp=&arnumber=6963470\n",
        "\n",
        "2) Tsong Yueh Chen, Fei-Ching Kuo, Huai Liu, Pak-Lok Poon, Dave Towey, T. H.\n",
        "Tse, and Zhi Quan Zhou. 2018. Metamorphic Testing: A Review of Challenges\n",
        "and Opportunities. 51, 1, Article 4 (Jan. 2018), 27 pages. https://doi.org/10.1145/3143561\n",
        "\n",
        "3) M. Srinivasan, M. P. Shahri, I. Kahanda and U. Kanewala, \"Quality Assurance of Bioinformatics Software: A Case Study of Testing a Biomedical Text Processing Tool Using Metamorphic Testing\", 2018 IEEE/ACM 3rd International Workshop on Metamorphic Testing (MET), Gothenburg, 2018, pp. 26-33. https://arxiv.org/pdf/1802.07354.pdf\n",
        "\n",
        "\n",
        "**Критерии оценки.**\n",
        "\n",
        "Условная оценка - 10 баллов за лабораторную. Для получения зачёта достаточно набрать 6.\n",
        "\n",
        "\n",
        "\n",
        "- Задание 1. (4 вопроса, 1 балл)\n",
        "- Задание 2. (9 баллов)"
      ]
    },
    {
      "cell_type": "markdown",
      "metadata": {
        "id": "cOOjuYki2gDK"
      },
      "source": [
        "## Задание 1. Теоретическая часть\n",
        "\n",
        "Ответьте на следующие вопросы (*1 балл*).\n",
        "1. Опишите суть проблемы тестового оракула.\n",
        "2. Приведите примеры задач, для которых обычное тестирование с оракулом не подходит.\n",
        "3. Перечислите методы, которые применяются для решения этой проблемы.\n",
        "4. Дайте определение тестового инварианта (metamorphic relation).\n",
        "\n",
        "\n",
        "\n"
      ]
    },
    {
      "cell_type": "markdown",
      "metadata": {
        "id": "IpV3qmFCI-mZ"
      },
      "source": [
        "Приведите свои ответы здесь:\n",
        "\n",
        "1. Для оценки правильности ответа программы требуется либо уже готовый ответ (для сравнения), который нужно откуда-то брать, либо свойство \"лёгкой проверяемости\" у проверяемого ответа (алгоритм проверки правильности ответа прост даже при отсутствии изначальной информации о том, что ответ правильный).\n",
        "2. Например, задача генерации изображений по описанию, задача написания текстов. Оценить качество выполнения таких задач сложно.\n",
        "3. Для оценки работы программы привлекается человек, либо же тестирование инвариантами.\n",
        "4. Это функция от нескольких тестовых входов и нескольких тестовых выходов в множество {True, False}, в основе лежит проверка сохранения некоторых свойств (сходств) на входах и выходах и(или) между выходами. Относится к методам тестирования без оракула, не требует наличия правильных ответов на каждый конкретный тестовый вход."
      ]
    },
    {
      "cell_type": "markdown",
      "source": [
        "TODO: дополнить"
      ],
      "metadata": {
        "id": "kWH87WzCN7_N"
      }
    },
    {
      "cell_type": "markdown",
      "metadata": {
        "id": "BvHnRXJCH6Fm"
      },
      "source": [
        "## Задание 2. Разработка тестовых инвариантов\n",
        "\n",
        "Дана модель для распознавания сущностей в тексте.\n",
        "- Придумайте и реализуйте 2 теста с тестовым оракулом (обычные тесты с правильными ответами) (*1 балл*)\n",
        "- Придумайте и реализуйте не менее 3 тестовых инвариантов (metamorphic relations) для её проверки - (*суммарно 6 баллов, теоретическое описание - по 1 баллу, реализация - по 1 баллу*)\n",
        "- Сравните полученные тесты. В чем преимущества каждого из методов? В чём недостатки? (*2 балла*)\n",
        "\n",
        "*Указание*. Можете воспользоваться идеями со слайда \"Bio-entity recognition\" или из статьи \"Quality Assurance of Bioinformatics Software: A Case Study of Testing a Biomedical Text Processing Tool Using Metamorphic Testing\" из списка литературы.\n",
        "\n",
        "**Правила оформления.**\n",
        "\n",
        "Для каждого инварианта необходимо описать\n",
        " - из каких предположений о модели он вытекает,\n",
        " - формальное описание (желательно с формулой),\n",
        " - запуск на 1-2 примерах тестовых данных.\n",
        "\n",
        "Теоретическую часть можно оформить в ячейке markdown."
      ]
    },
    {
      "cell_type": "markdown",
      "metadata": {
        "id": "Rmc0KqkI7g8c"
      },
      "source": [
        "### Тестируемая система\n",
        "\n",
        "Модель позволяет искать сущности в тексте. Ниже приведены примеры того, как можно с ней работать."
      ]
    },
    {
      "cell_type": "code",
      "execution_count": null,
      "metadata": {
        "id": "c2OQoJZ05L17"
      },
      "outputs": [],
      "source": [
        "# ! pip install spacy==2.2.4"
      ]
    },
    {
      "cell_type": "code",
      "execution_count": 1,
      "metadata": {
        "id": "7pJhnXchlEqW"
      },
      "outputs": [],
      "source": [
        "import spacy\n",
        "from spacy import displacy"
      ]
    },
    {
      "cell_type": "code",
      "execution_count": 2,
      "metadata": {
        "id": "nROSvozS7ngm"
      },
      "outputs": [],
      "source": [
        "# example of model usage\n",
        "def render(text):\n",
        "\n",
        "    nlp = spacy.load('en_core_web_sm') # model\n",
        "\n",
        "    doc = nlp(text) # data processing\n",
        "\n",
        "    # FYI all the properties\n",
        "    props = [p for p in dir(doc.ents[0]) if p[0] != '_']\n",
        "    print(props)\n",
        "\n",
        "    # custom processing of the answer\n",
        "\n",
        "    # get counts of entities\n",
        "    ent_labels = [e.label_ for e in doc.ents]\n",
        "    freq = dict()\n",
        "    for l in ent_labels:\n",
        "        freq[l] = ent_labels.count(l)\n",
        "    print(freq)\n",
        "\n",
        "    # get coordinates of entities\n",
        "    coordinates = [e.start_char for e in doc.ents]\n",
        "    print(coordinates)\n",
        "\n",
        "    # render the answer\n",
        "    displacy.render(doc, style='ent', jupyter=True)\n",
        "\n",
        "def model_result(text):\n",
        "    nlp = spacy.load('en_core_web_sm') # model\n",
        "    doc = nlp(text) # data processing\n",
        "\n",
        "    # get counts of entities\n",
        "    ent_labels = [e.label_ for e in doc.ents]\n",
        "    freq = dict()\n",
        "    for l in ent_labels:\n",
        "        freq[l] = ent_labels.count(l)\n",
        "\n",
        "    # get coordinates of entities\n",
        "    coordinates = [e.start_char for e in doc.ents]\n",
        "\n",
        "    return (freq, coordinates)"
      ]
    },
    {
      "cell_type": "markdown",
      "metadata": {
        "id": "HBEamgaP4K9W"
      },
      "source": [
        "Модель позволяет искать сущности в тексте. В ячейке ниже приведены примеры того, как можно с ней работать."
      ]
    },
    {
      "cell_type": "code",
      "execution_count": 3,
      "metadata": {
        "colab": {
          "base_uri": "https://localhost:8080/",
          "height": 231
        },
        "id": "_uAmLvzO7r8d",
        "outputId": "7b37f566-721e-40d6-aa51-c6116d7d7af5"
      },
      "outputs": [
        {
          "output_type": "stream",
          "name": "stdout",
          "text": [
            "['as_doc', 'char_span', 'conjuncts', 'doc', 'end', 'end_char', 'ent_id', 'ent_id_', 'ents', 'get_extension', 'get_lca_matrix', 'has_extension', 'has_vector', 'id', 'id_', 'kb_id', 'kb_id_', 'label', 'label_', 'lefts', 'lemma_', 'n_lefts', 'n_rights', 'noun_chunks', 'orth_', 'remove_extension', 'rights', 'root', 'sent', 'sentiment', 'sents', 'set_extension', 'similarity', 'start', 'start_char', 'subtree', 'tensor', 'text', 'text_with_ws', 'to_array', 'vector', 'vector_norm', 'vocab']\n",
            "{'ORG': 5, 'PERSON': 1, 'LOC': 1}\n",
            "[4, 84, 92, 111, 124, 133, 167]\n"
          ]
        },
        {
          "output_type": "display_data",
          "data": {
            "text/plain": [
              "<IPython.core.display.HTML object>"
            ],
            "text/html": [
              "<span class=\"tex2jax_ignore\"><div class=\"entities\" style=\"line-height: 2.5; direction: ltr\">But \n",
              "<mark class=\"entity\" style=\"background: #7aecec; padding: 0.45em 0.6em; margin: 0 0.25em; line-height: 1; border-radius: 0.35em;\">\n",
              "    Google\n",
              "    <span style=\"font-size: 0.8em; font-weight: bold; line-height: 1; border-radius: 0.35em; vertical-align: middle; margin-left: 0.5rem\">ORG</span>\n",
              "</mark>\n",
              " is starting from behind. The company made a late push<br>into hardware, and \n",
              "<mark class=\"entity\" style=\"background: #7aecec; padding: 0.45em 0.6em; margin: 0 0.25em; line-height: 1; border-radius: 0.35em;\">\n",
              "    Apple\n",
              "    <span style=\"font-size: 0.8em; font-weight: bold; line-height: 1; border-radius: 0.35em; vertical-align: middle; margin-left: 0.5rem\">ORG</span>\n",
              "</mark>\n",
              "’s \n",
              "<mark class=\"entity\" style=\"background: #aa9cfc; padding: 0.45em 0.6em; margin: 0 0.25em; line-height: 1; border-radius: 0.35em;\">\n",
              "    Siri\n",
              "    <span style=\"font-size: 0.8em; font-weight: bold; line-height: 1; border-radius: 0.35em; vertical-align: middle; margin-left: 0.5rem\">PERSON</span>\n",
              "</mark>\n",
              ", available on \n",
              "<mark class=\"entity\" style=\"background: #7aecec; padding: 0.45em 0.6em; margin: 0 0.25em; line-height: 1; border-radius: 0.35em;\">\n",
              "    iPhones\n",
              "    <span style=\"font-size: 0.8em; font-weight: bold; line-height: 1; border-radius: 0.35em; vertical-align: middle; margin-left: 0.5rem\">ORG</span>\n",
              "</mark>\n",
              ", and \n",
              "<mark class=\"entity\" style=\"background: #7aecec; padding: 0.45em 0.6em; margin: 0 0.25em; line-height: 1; border-radius: 0.35em;\">\n",
              "    Amazon\n",
              "    <span style=\"font-size: 0.8em; font-weight: bold; line-height: 1; border-radius: 0.35em; vertical-align: middle; margin-left: 0.5rem\">ORG</span>\n",
              "</mark>\n",
              "’s \n",
              "<mark class=\"entity\" style=\"background: #7aecec; padding: 0.45em 0.6em; margin: 0 0.25em; line-height: 1; border-radius: 0.35em;\">\n",
              "    Alexa\n",
              "    <span style=\"font-size: 0.8em; font-weight: bold; line-height: 1; border-radius: 0.35em; vertical-align: middle; margin-left: 0.5rem\">ORG</span>\n",
              "</mark>\n",
              "<br>software, which runs on its \n",
              "<mark class=\"entity\" style=\"background: #ff9561; padding: 0.45em 0.6em; margin: 0 0.25em; line-height: 1; border-radius: 0.35em;\">\n",
              "    Echo\n",
              "    <span style=\"font-size: 0.8em; font-weight: bold; line-height: 1; border-radius: 0.35em; vertical-align: middle; margin-left: 0.5rem\">LOC</span>\n",
              "</mark>\n",
              " and Dot devices, have clear leads in<br>consumer adoption.</div></span>"
            ]
          },
          "metadata": {}
        }
      ],
      "source": [
        "text = \"\"\"But Google is starting from behind. The company made a late push\n",
        "into hardware, and Apple’s Siri, available on iPhones, and Amazon’s Alexa\n",
        "software, which runs on its Echo and Dot devices, have clear leads in\n",
        "consumer adoption.\"\"\"\n",
        "\n",
        "render(text)"
      ]
    },
    {
      "cell_type": "markdown",
      "metadata": {
        "id": "4hts770wMN81"
      },
      "source": [
        "\n",
        "### Пример оформления инварианта\n",
        "\n",
        "Рассмотрим задачу поиска подстроки в строке.\n",
        "\n",
        "Предполагаем, что алгоритм должен находить все вхождения подстроки.\n",
        "\n",
        "> **MR1.** Если в строке S найдёна некоторая подстрока s ровно k раз, то в строке SS она будет найдена не менее 2k раз (возможны нахождения на месте склейки строк).\n",
        "\n",
        "Формально. Пусть S - строка, s - её подстрока, f(S,s) - определённое программой число вхождений s в S. Тогда f(SS,s) >= 2*f(S,s).\n"
      ]
    },
    {
      "cell_type": "code",
      "execution_count": 8,
      "metadata": {
        "id": "l3HLSNRb2fap"
      },
      "outputs": [],
      "source": [
        "import re\n",
        "import unittest\n",
        "\n",
        "# function for testing\n",
        "def func_to_test(substr, string):\n",
        "    return re.finditer(pattern=substr, string=string)\n",
        "\n",
        "\n",
        "class TestStringMethods(unittest.TestCase):\n",
        "\n",
        "    def test_with_oracle1(self):\n",
        "        # input data\n",
        "        big_string = 'abacaba'\n",
        "        substr = 'aba'\n",
        "\n",
        "        # correct answer\n",
        "        right_answer = [0, 4]\n",
        "\n",
        "        indices = func_to_test(substr, big_string)\n",
        "        answer = [index.start() for index in indices]\n",
        "\n",
        "        self.assertTrue(answer == right_answer)\n",
        "\n",
        "    def test_metamorphic1(self):\n",
        "        # input data\n",
        "        big_string1 = 'abacab'\n",
        "        big_string2 = big_string1 + big_string1\n",
        "        substr = 'aba'\n",
        "\n",
        "        # first answer\n",
        "        indices = func_to_test(substr, big_string1)\n",
        "        indices1 = [index.start() for index in indices]\n",
        "\n",
        "        # second answer\n",
        "        indices = func_to_test(substr, big_string2)\n",
        "        indices2 = [index.start() for index in indices]\n",
        "\n",
        "        # metamorphic relation\n",
        "        self.assertTrue(2*len(indices1) <= len(indices2))"
      ]
    },
    {
      "cell_type": "markdown",
      "metadata": {
        "id": "YIWP_VCIJgoo"
      },
      "source": [
        "Ниже мы запускаем все объявленные тестовые случаи"
      ]
    },
    {
      "cell_type": "code",
      "execution_count": 10,
      "metadata": {
        "colab": {
          "base_uri": "https://localhost:8080/"
        },
        "id": "hNOpslG87uzq",
        "outputId": "9a451a72-5dac-4a52-bab3-8d6ac25559d1"
      },
      "outputs": [
        {
          "output_type": "stream",
          "name": "stderr",
          "text": [
            "..\n",
            "----------------------------------------------------------------------\n",
            "Ran 2 tests in 0.738s\n",
            "\n",
            "OK\n"
          ]
        },
        {
          "output_type": "execute_result",
          "data": {
            "text/plain": [
              "<unittest.main.TestProgram at 0x7df6737434c0>"
            ]
          },
          "metadata": {},
          "execution_count": 10
        }
      ],
      "source": [
        "unittest.main(argv=['first-arg-is-ignored'], exit=False)"
      ]
    },
    {
      "cell_type": "markdown",
      "metadata": {
        "id": "u1gJjW4GIYhe"
      },
      "source": [
        "### Реализуйте собственные тестовые инварианты ниже"
      ]
    },
    {
      "cell_type": "code",
      "execution_count": 26,
      "metadata": {
        "id": "f0hWY1bayPn5"
      },
      "outputs": [],
      "source": [
        "import unittest\n",
        "\n",
        "class TestStringMethods(unittest.TestCase):\n",
        "\n",
        "    def test_with_oracle1(self):\n",
        "        # input data\n",
        "        big_text = \"\"\"Lorem Ipsum is simply dummy text of the printing and typesetting industry.\n",
        "        Lorem Ipsum has been the industry's standard dummy text ever since the 1500s,\n",
        "        when an unknown printer took a galley of type and scrambled it to make a type specimen book.\"\"\"\n",
        "\n",
        "        result = model_result(big_text)\n",
        "\n",
        "        # correct answer\n",
        "        ents = {'PERSON': 2, 'DATE': 1}\n",
        "        locations = [0, 84, 151]\n",
        "\n",
        "        self.assertTrue(result[0] == ents and result[1] == locations)\n",
        "\n",
        "    def test_with_oracle2(self):\n",
        "        # input data\n",
        "        big_text = \"\"\"Lorem is simply dummy text of the printing and typesetting industry.\n",
        "        Lorem Ipsum has been the industry's standard dummy text ever since the 1500s,\n",
        "        when an unknown printer in 90s took a galley of type and scrambled it to make a type specimen book with Donald Trump and Biden under Barak.\"\"\"\n",
        "\n",
        "        result = model_result(big_text)\n",
        "\n",
        "        # correct answer\n",
        "        ents = {'PERSON': 5, 'DATE': 2}\n",
        "        locations = [0, 78, 145, 191, 268, 285, 297]\n",
        "\n",
        "        self.assertTrue(result[0] == ents and result[1] == locations)\n",
        "\n",
        "    def test_metamorphic1(self):\n",
        "        self.assertTrue(True)"
      ]
    },
    {
      "cell_type": "code",
      "execution_count": 27,
      "metadata": {
        "id": "AU_uYHTn0FKI",
        "colab": {
          "base_uri": "https://localhost:8080/"
        },
        "outputId": "288d221f-7edc-432d-cd3e-8e6d90e0723f"
      },
      "outputs": [
        {
          "output_type": "stream",
          "name": "stderr",
          "text": [
            "...\n",
            "----------------------------------------------------------------------\n",
            "Ran 3 tests in 1.390s\n",
            "\n",
            "OK\n"
          ]
        },
        {
          "output_type": "execute_result",
          "data": {
            "text/plain": [
              "<unittest.main.TestProgram at 0x7c3b82956f80>"
            ]
          },
          "metadata": {},
          "execution_count": 27
        }
      ],
      "source": [
        "unittest.main(argv=['first-arg-is-ignored'], exit=False)"
      ]
    }
  ],
  "metadata": {
    "colab": {
      "provenance": []
    },
    "kernelspec": {
      "display_name": "Python 3 (ipykernel)",
      "language": "python",
      "name": "python3"
    },
    "language_info": {
      "codemirror_mode": {
        "name": "ipython",
        "version": 3
      },
      "file_extension": ".py",
      "mimetype": "text/x-python",
      "name": "python",
      "nbconvert_exporter": "python",
      "pygments_lexer": "ipython3",
      "version": "3.10.12"
    }
  },
  "nbformat": 4,
  "nbformat_minor": 0
}