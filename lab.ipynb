{
 "cells": [
  {
   "cell_type": "markdown",
   "metadata": {
    "id": "RFrpDjMD2UVC"
   },
   "source": [
    "# Лабораторная работа по теме \"Metamorphic testing\""
   ]
  },
  {
   "cell_type": "markdown",
   "metadata": {
    "id": "JoSgSozQHykn"
   },
   "source": [
    "Ссылка на материалы занятия https://drive.google.com/drive/folders/1dbq1scqU22XPFCrVmz75gpRsb49QjtcM?usp=drive_link\n",
    "\n",
    "Литература\n",
    "\n",
    "1) Barr E.T., Harman M., McMinn P., Shahbaz M., Yoo S. The oracle problem in software testing: A survey. IEEE transactions on software engineering. 41(5). 2014. P. 507-525. https://ieeexplore.ieee.org/stamp/stamp.jsp?tp=&arnumber=6963470\n",
    "\n",
    "2) Tsong Yueh Chen, Fei-Ching Kuo, Huai Liu, Pak-Lok Poon, Dave Towey, T. H.\n",
    "Tse, and Zhi Quan Zhou. 2018. Metamorphic Testing: A Review of Challenges\n",
    "and Opportunities. 51, 1, Article 4 (Jan. 2018), 27 pages. https://doi.org/10.1145/3143561\n",
    "\n",
    "3) M. Srinivasan, M. P. Shahri, I. Kahanda and U. Kanewala, \"Quality Assurance of Bioinformatics Software: A Case Study of Testing a Biomedical Text Processing Tool Using Metamorphic Testing\", 2018 IEEE/ACM 3rd International Workshop on Metamorphic Testing (MET), Gothenburg, 2018, pp. 26-33. https://arxiv.org/pdf/1802.07354.pdf\n",
    "\n",
    "\n",
    "**Критерии оценки.**\n",
    "\n",
    "Условная оценка - 10 баллов за лабораторную. Для получения зачёта достаточно набрать 6.\n",
    "\n",
    "\n",
    "\n",
    "- Задание 1. (4 вопроса, 1 балл)\n",
    "- Задание 2. (9 баллов)"
   ]
  },
  {
   "cell_type": "markdown",
   "metadata": {
    "id": "cOOjuYki2gDK"
   },
   "source": [
    "## Задание 1. Теоретическая часть\n",
    "\n",
    "Ответьте на следующие вопросы (*1 балл*).\n",
    "1. Опишите суть проблемы тестового оракула.\n",
    "2. Приведите примеры задач, для которых обычное тестирование с оракулом не подходит.\n",
    "3. Перечислите методы, которые применяются для решения этой проблемы.\n",
    "4. Дайте определение тестового инварианта (metamorphic relation).\n",
    "\n",
    "\n",
    "\n"
   ]
  },
  {
   "cell_type": "markdown",
   "metadata": {
    "id": "IpV3qmFCI-mZ"
   },
   "source": [
    "Приведите свои ответы здесь:\n",
    "\n",
    "1. Для оценки правильности ответа программы требуется уже готовый ответ (для сравнения), который нужно откуда-то брать.\n",
    "2. Например, задача генерации изображений по описанию. Оценить качество выполнения такой задачи сложно.\n",
    "3. Для оценки работы программы привлекается человек, либо же тестирование инвариантами.\n",
    "4. Это функция от нескольких тестовых входов и нескольких тестовых выходов в множество {True, False}, в основе лежит проверка выполнения тестовых инвариантов (ожидаемых сходств) на входах и выходах программы. Относится к методам тестирования без оракула, не требует наличия правильных ответов на каждый конкретный тестовый вход."
   ]
  },
  {
   "cell_type": "markdown",
   "metadata": {
    "id": "BvHnRXJCH6Fm"
   },
   "source": [
    "## Задание 2. Разработка тестовых инвариантов\n",
    "\n",
    "Дана модель для распознавания сущностей в тексте.\n",
    "- Придумайте и реализуйте 2 теста с тестовым оракулом (обычные тесты с правильными ответами) (*1 балл*)\n",
    "- Придумайте и реализуйте не менее 3 тестовых инвариантов (metamorphic relations) для её проверки - (*суммарно 6 баллов, теоретическое описание - по 1 баллу, реализация - по 1 баллу*)\n",
    "- Сравните полученные тесты. В чем преимущества каждого из методов? В чём недостатки? (*2 балла*)\n",
    "\n",
    "*Указание*. Можете воспользоваться идеями со слайда \"Bio-entity recognition\" или из статьи \"Quality Assurance of Bioinformatics Software: A Case Study of Testing a Biomedical Text Processing Tool Using Metamorphic Testing\" из списка литературы.\n",
    "\n",
    "**Правила оформления.**\n",
    "\n",
    "Для каждого инварианта необходимо описать\n",
    " - из каких предположений о модели он вытекает,\n",
    " - формальное описание (желательно с формулой),\n",
    " - запуск на 1-2 примерах тестовых данных.\n",
    " \n",
    "Теоретическую часть можно оформить в ячейке markdown."
   ]
  },
  {
   "cell_type": "markdown",
   "metadata": {
    "id": "Rmc0KqkI7g8c"
   },
   "source": [
    "### Тестируемая система\n",
    "\n",
    "Модель позволяет искать сущности в тексте. Ниже приведены примеры того, как можно с ней работать. "
   ]
  },
  {
   "cell_type": "code",
   "execution_count": null,
   "metadata": {
    "id": "c2OQoJZ05L17"
   },
   "outputs": [],
   "source": [
    "# ! pip install spacy==2.2.4"
   ]
  },
  {
   "cell_type": "code",
   "execution_count": 1,
   "metadata": {
    "id": "7pJhnXchlEqW"
   },
   "outputs": [],
   "source": [
    "import spacy\n",
    "from spacy import displacy"
   ]
  },
  {
   "cell_type": "code",
   "execution_count": 2,
   "metadata": {
    "id": "nROSvozS7ngm"
   },
   "outputs": [],
   "source": [
    "# example of model usage\n",
    "def render(text):\n",
    "  \n",
    "    nlp = spacy.load('en_core_web_sm') # model\n",
    "  \n",
    "    doc = nlp(text) # data processing\n",
    "\n",
    "    # FYI all the properties\n",
    "    props = [p for p in dir(doc.ents[0]) if p[0] != '_']\n",
    "    print(props)\n",
    "\n",
    "    # custom processing of the answer\n",
    "\n",
    "    # get counts of entities\n",
    "    ent_labels = [e.label_ for e in doc.ents]\n",
    "    freq = dict()\n",
    "    for l in ent_labels:\n",
    "        freq[l] = ent_labels.count(l)\n",
    "    print(freq)\n",
    "\n",
    "    # get coordinates of entities\n",
    "    coordinates = [e.start_char for e in doc.ents]\n",
    "    print(coordinates)\n",
    "\n",
    "    # render the answer\n",
    "    displacy.render(doc, style='ent', jupyter=True)"
   ]
  },
  {
   "cell_type": "markdown",
   "metadata": {
    "id": "HBEamgaP4K9W"
   },
   "source": [
    "Модель позволяет искать сущности в тексте. В ячейке ниже приведены примеры того, как можно с ней работать. "
   ]
  },
  {
   "cell_type": "code",
   "execution_count": 3,
   "metadata": {
    "colab": {
     "base_uri": "https://localhost:8080/",
     "height": 194
    },
    "id": "_uAmLvzO7r8d",
    "outputId": "ad066ead-55d0-434d-8227-6a7d13cc4813"
   },
   "outputs": [
    {
     "ename": "OSError",
     "evalue": "[E050] Can't find model 'en_core_web_sm'. It doesn't seem to be a Python package or a valid path to a data directory.",
     "output_type": "error",
     "traceback": [
      "\u001b[0;31m---------------------------------------------------------------------------\u001b[0m",
      "\u001b[0;31mOSError\u001b[0m                                   Traceback (most recent call last)",
      "\u001b[0;32m/tmp/ipykernel_2867/3441106560.py\u001b[0m in \u001b[0;36m<module>\u001b[0;34m\u001b[0m\n\u001b[1;32m      4\u001b[0m consumer adoption.\"\"\"\n\u001b[1;32m      5\u001b[0m \u001b[0;34m\u001b[0m\u001b[0m\n\u001b[0;32m----> 6\u001b[0;31m \u001b[0mrender\u001b[0m\u001b[0;34m(\u001b[0m\u001b[0mtext\u001b[0m\u001b[0;34m)\u001b[0m\u001b[0;34m\u001b[0m\u001b[0;34m\u001b[0m\u001b[0m\n\u001b[0m",
      "\u001b[0;32m/tmp/ipykernel_2867/1384223565.py\u001b[0m in \u001b[0;36mrender\u001b[0;34m(text)\u001b[0m\n\u001b[1;32m      2\u001b[0m \u001b[0;32mdef\u001b[0m \u001b[0mrender\u001b[0m\u001b[0;34m(\u001b[0m\u001b[0mtext\u001b[0m\u001b[0;34m)\u001b[0m\u001b[0;34m:\u001b[0m\u001b[0;34m\u001b[0m\u001b[0;34m\u001b[0m\u001b[0m\n\u001b[1;32m      3\u001b[0m \u001b[0;34m\u001b[0m\u001b[0m\n\u001b[0;32m----> 4\u001b[0;31m     \u001b[0mnlp\u001b[0m \u001b[0;34m=\u001b[0m \u001b[0mspacy\u001b[0m\u001b[0;34m.\u001b[0m\u001b[0mload\u001b[0m\u001b[0;34m(\u001b[0m\u001b[0;34m'en_core_web_sm'\u001b[0m\u001b[0;34m)\u001b[0m \u001b[0;31m# model\u001b[0m\u001b[0;34m\u001b[0m\u001b[0;34m\u001b[0m\u001b[0m\n\u001b[0m\u001b[1;32m      5\u001b[0m \u001b[0;34m\u001b[0m\u001b[0m\n\u001b[1;32m      6\u001b[0m     \u001b[0mdoc\u001b[0m \u001b[0;34m=\u001b[0m \u001b[0mnlp\u001b[0m\u001b[0;34m(\u001b[0m\u001b[0mtext\u001b[0m\u001b[0;34m)\u001b[0m \u001b[0;31m# data processing\u001b[0m\u001b[0;34m\u001b[0m\u001b[0;34m\u001b[0m\u001b[0m\n",
      "\u001b[0;32m~/.local/lib/python3.10/site-packages/spacy/__init__.py\u001b[0m in \u001b[0;36mload\u001b[0;34m(name, vocab, disable, enable, exclude, config)\u001b[0m\n\u001b[1;32m     49\u001b[0m     \u001b[0mRETURNS\u001b[0m \u001b[0;34m(\u001b[0m\u001b[0mLanguage\u001b[0m\u001b[0;34m)\u001b[0m\u001b[0;34m:\u001b[0m \u001b[0mThe\u001b[0m \u001b[0mloaded\u001b[0m \u001b[0mnlp\u001b[0m \u001b[0mobject\u001b[0m\u001b[0;34m.\u001b[0m\u001b[0;34m\u001b[0m\u001b[0;34m\u001b[0m\u001b[0m\n\u001b[1;32m     50\u001b[0m     \"\"\"\n\u001b[0;32m---> 51\u001b[0;31m     return util.load_model(\n\u001b[0m\u001b[1;32m     52\u001b[0m         \u001b[0mname\u001b[0m\u001b[0;34m,\u001b[0m\u001b[0;34m\u001b[0m\u001b[0;34m\u001b[0m\u001b[0m\n\u001b[1;32m     53\u001b[0m         \u001b[0mvocab\u001b[0m\u001b[0;34m=\u001b[0m\u001b[0mvocab\u001b[0m\u001b[0;34m,\u001b[0m\u001b[0;34m\u001b[0m\u001b[0;34m\u001b[0m\u001b[0m\n",
      "\u001b[0;32m~/.local/lib/python3.10/site-packages/spacy/util.py\u001b[0m in \u001b[0;36mload_model\u001b[0;34m(name, vocab, disable, enable, exclude, config)\u001b[0m\n\u001b[1;32m    470\u001b[0m     \u001b[0;32mif\u001b[0m \u001b[0mname\u001b[0m \u001b[0;32min\u001b[0m \u001b[0mOLD_MODEL_SHORTCUTS\u001b[0m\u001b[0;34m:\u001b[0m\u001b[0;34m\u001b[0m\u001b[0;34m\u001b[0m\u001b[0m\n\u001b[1;32m    471\u001b[0m         \u001b[0;32mraise\u001b[0m \u001b[0mIOError\u001b[0m\u001b[0;34m(\u001b[0m\u001b[0mErrors\u001b[0m\u001b[0;34m.\u001b[0m\u001b[0mE941\u001b[0m\u001b[0;34m.\u001b[0m\u001b[0mformat\u001b[0m\u001b[0;34m(\u001b[0m\u001b[0mname\u001b[0m\u001b[0;34m=\u001b[0m\u001b[0mname\u001b[0m\u001b[0;34m,\u001b[0m \u001b[0mfull\u001b[0m\u001b[0;34m=\u001b[0m\u001b[0mOLD_MODEL_SHORTCUTS\u001b[0m\u001b[0;34m[\u001b[0m\u001b[0mname\u001b[0m\u001b[0;34m]\u001b[0m\u001b[0;34m)\u001b[0m\u001b[0;34m)\u001b[0m  \u001b[0;31m# type: ignore[index]\u001b[0m\u001b[0;34m\u001b[0m\u001b[0;34m\u001b[0m\u001b[0m\n\u001b[0;32m--> 472\u001b[0;31m     \u001b[0;32mraise\u001b[0m \u001b[0mIOError\u001b[0m\u001b[0;34m(\u001b[0m\u001b[0mErrors\u001b[0m\u001b[0;34m.\u001b[0m\u001b[0mE050\u001b[0m\u001b[0;34m.\u001b[0m\u001b[0mformat\u001b[0m\u001b[0;34m(\u001b[0m\u001b[0mname\u001b[0m\u001b[0;34m=\u001b[0m\u001b[0mname\u001b[0m\u001b[0;34m)\u001b[0m\u001b[0;34m)\u001b[0m\u001b[0;34m\u001b[0m\u001b[0;34m\u001b[0m\u001b[0m\n\u001b[0m\u001b[1;32m    473\u001b[0m \u001b[0;34m\u001b[0m\u001b[0m\n\u001b[1;32m    474\u001b[0m \u001b[0;34m\u001b[0m\u001b[0m\n",
      "\u001b[0;31mOSError\u001b[0m: [E050] Can't find model 'en_core_web_sm'. It doesn't seem to be a Python package or a valid path to a data directory."
     ]
    }
   ],
   "source": [
    "text = \"\"\"But Google is starting from behind. The company made a late push\n",
    "into hardware, and Apple’s Siri, available on iPhones, and Amazon’s Alexa\n",
    "software, which runs on its Echo and Dot devices, have clear leads in\n",
    "consumer adoption.\"\"\"\n",
    "\n",
    "render(text)"
   ]
  },
  {
   "cell_type": "markdown",
   "metadata": {
    "id": "4hts770wMN81"
   },
   "source": [
    "\n",
    "### Пример оформления инварианта\n",
    "\n",
    "Рассмотрим задачу поиска подстроки в строке. \n",
    "\n",
    "Предполагаем, что алгоритм должен находить все вхождения подстроки.\n",
    "\n",
    "> **MR1.** Если в строке S найдёна некоторая подстрока s ровно k раз, то в строке SS она будет найдена не менее 2k раз (возможны нахождения на месте склейки строк).\n",
    "\n",
    "Формально. Пусть S - строка, s - её подстрока, f(S,s) - определённое программой число вхождений s в S. Тогда f(SS,s) >= 2*f(S,s).\n"
   ]
  },
  {
   "cell_type": "code",
   "execution_count": null,
   "metadata": {
    "id": "l3HLSNRb2fap"
   },
   "outputs": [],
   "source": [
    "import re\n",
    "import unittest\n",
    "\n",
    "# function for testing\n",
    "def func_to_test(substr, string):\n",
    "    return re.finditer(pattern=substr, string=string)\n",
    "\n",
    "\n",
    "class TestStringMethods(unittest.TestCase):\n",
    "\n",
    "    def test_with_oracle1(self):\n",
    "        # input data\n",
    "        big_string = 'abacaba'\n",
    "        substr = 'aba'\n",
    "\n",
    "        # correct answer\n",
    "        right_answer = [0, 4]\n",
    "\n",
    "        indices = func_to_test(substr, big_string)\n",
    "        answer = [index.start() for index in indices]\n",
    "        \n",
    "        self.assertTrue(answer == right_answer)\n",
    "\n",
    "    def test_metamorphic1(self):\n",
    "        # input data\n",
    "        big_string1 = 'abacab'\n",
    "        big_string2 = big_string1 + big_string1\n",
    "        substr = 'aba'\n",
    "\n",
    "        # first answer\n",
    "        indices = func_to_test(substr, big_string1)\n",
    "        indices1 = [index.start() for index in indices]\n",
    "\n",
    "        # second answer\n",
    "        indices = func_to_test(substr, big_string2)\n",
    "        indices2 = [index.start() for index in indices]\n",
    "\n",
    "        # metamorphic relation\n",
    "        self.assertTrue(2*len(indices1) <= len(indices2))"
   ]
  },
  {
   "cell_type": "markdown",
   "metadata": {
    "id": "YIWP_VCIJgoo"
   },
   "source": [
    "Ниже мы запускаем все объявленные тестовые случаи"
   ]
  },
  {
   "cell_type": "code",
   "execution_count": null,
   "metadata": {
    "colab": {
     "base_uri": "https://localhost:8080/"
    },
    "id": "hNOpslG87uzq",
    "outputId": "0a9b8830-859e-474e-c8e4-d90d32fc53d1"
   },
   "outputs": [
    {
     "name": "stderr",
     "output_type": "stream",
     "text": [
      "..\n",
      "----------------------------------------------------------------------\n",
      "Ran 2 tests in 0.006s\n",
      "\n",
      "OK\n"
     ]
    },
    {
     "data": {
      "text/plain": [
       "<unittest.main.TestProgram at 0x7f8cc50bbf90>"
      ]
     },
     "execution_count": 26,
     "metadata": {},
     "output_type": "execute_result"
    }
   ],
   "source": [
    "unittest.main(argv=['first-arg-is-ignored'], exit=False)"
   ]
  },
  {
   "cell_type": "markdown",
   "metadata": {
    "id": "u1gJjW4GIYhe"
   },
   "source": [
    "### Реализуйте собственные тестовые инварианты ниже"
   ]
  },
  {
   "cell_type": "code",
   "execution_count": null,
   "metadata": {
    "colab": {
     "base_uri": "https://localhost:8080/"
    },
    "id": "f0hWY1bayPn5",
    "outputId": "c8f7dce1-073f-4ab6-8e0f-0d94ead6167a"
   },
   "outputs": [
    {
     "name": "stdout",
     "output_type": "stream",
     "text": [
      "[]\n"
     ]
    }
   ],
   "source": [
    "class TestStringMethods(unittest.TestCase):\n",
    "  \n",
    "  def my_test_case():\n",
    "    ..."
   ]
  },
  {
   "cell_type": "code",
   "execution_count": null,
   "metadata": {
    "id": "AU_uYHTn0FKI"
   },
   "outputs": [],
   "source": []
  }
 ],
 "metadata": {
  "colab": {
   "collapsed_sections": [],
   "name": "Copy of Untitled0.ipynb",
   "provenance": []
  },
  "kernelspec": {
   "display_name": "Python 3 (ipykernel)",
   "language": "python",
   "name": "python3"
  },
  "language_info": {
   "codemirror_mode": {
    "name": "ipython",
    "version": 3
   },
   "file_extension": ".py",
   "mimetype": "text/x-python",
   "name": "python",
   "nbconvert_exporter": "python",
   "pygments_lexer": "ipython3",
   "version": "3.10.12"
  }
 },
 "nbformat": 4,
 "nbformat_minor": 1
}
